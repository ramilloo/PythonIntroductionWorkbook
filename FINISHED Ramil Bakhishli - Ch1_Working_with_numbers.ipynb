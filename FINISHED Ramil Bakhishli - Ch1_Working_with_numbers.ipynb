{
 "cells": [
  {
   "cell_type": "markdown",
   "metadata": {},
   "source": [
    "# Working with numbers\n",
    "Python is also a powerful calculator and you can manipulate or test numbers in a variety of ways.\n",
    "\n",
    "Type in 1+1 and run it… "
   ]
  },
  {
   "cell_type": "code",
   "execution_count": 2,
   "metadata": {},
   "outputs": [
    {
     "data": {
      "text/plain": [
       "2"
      ]
     },
     "execution_count": 2,
     "metadata": {},
     "output_type": "execute_result"
    }
   ],
   "source": [
    "1+1"
   ]
  },
  {
   "cell_type": "markdown",
   "metadata": {},
   "source": [
    "### Task1: Explain what happens below?\n",
    "\n",
    "The operator is addition so the program knows that it will have to add the following inputs together."
   ]
  },
  {
   "cell_type": "markdown",
   "metadata": {},
   "source": [
    "### Task 2: Complete the table\n",
    "Using the code cell below investigate the following and fill in the rest of the table:<p>\n",
    "\n",
    "|Equation|Answer|What does it do?|\n",
    "|:---|:---|:---|\n",
    "|2+5   | 7  | The + command is addition  |\n",
    "|67/34   | 1.9705882352941178  |  The / command is a division |\n",
    "|30*4   |  120 | The * command is multiplication  |\n",
    "|3==6   | false  | Because == is a comparison|\n",
    "|3!=5   | True  |The != command means not equal to and in this case 3 isn't equal to 5 |\n",
    "|39==39   | True  | Because == is a comparison and 39 is the same as 39   |\n",
    "|list(range(100))   |0-99   | Lists all the numbers from 0 to 99  |\n",
    "|list(range(46,100))   | 46-99  | Lists all the numbers from 46-99   |\n",
    "|list(range(0,30,5))   | 0,5,10,15,20,25  |Lists all the numbers from 0 to 30 that are multiples of 5   |"
   ]
  },
  {
   "cell_type": "code",
   "execution_count": 11,
   "metadata": {},
   "outputs": [
    {
     "data": {
      "text/plain": [
       "[0, 5, 10, 15, 20, 25]"
      ]
     },
     "execution_count": 11,
     "metadata": {},
     "output_type": "execute_result"
    }
   ],
   "source": [
    "list(range(0,30,5))"
   ]
  },
  {
   "cell_type": "markdown",
   "metadata": {},
   "source": [
    "### Task 3: Number list program\n",
    "Can you create a program that lists all the numbers starting from 100 to 10000, going up in intervals of 9? "
   ]
  },
  {
   "cell_type": "code",
   "execution_count": 13,
   "metadata": {},
   "outputs": [
    {
     "data": {
      "text/plain": [
       "[100,\n",
       " 109,\n",
       " 118,\n",
       " 127,\n",
       " 136,\n",
       " 145,\n",
       " 154,\n",
       " 163,\n",
       " 172,\n",
       " 181,\n",
       " 190,\n",
       " 199,\n",
       " 208,\n",
       " 217,\n",
       " 226,\n",
       " 235,\n",
       " 244,\n",
       " 253,\n",
       " 262,\n",
       " 271,\n",
       " 280,\n",
       " 289,\n",
       " 298,\n",
       " 307,\n",
       " 316,\n",
       " 325,\n",
       " 334,\n",
       " 343,\n",
       " 352,\n",
       " 361,\n",
       " 370,\n",
       " 379,\n",
       " 388,\n",
       " 397,\n",
       " 406,\n",
       " 415,\n",
       " 424,\n",
       " 433,\n",
       " 442,\n",
       " 451,\n",
       " 460,\n",
       " 469,\n",
       " 478,\n",
       " 487,\n",
       " 496,\n",
       " 505,\n",
       " 514,\n",
       " 523,\n",
       " 532,\n",
       " 541,\n",
       " 550,\n",
       " 559,\n",
       " 568,\n",
       " 577,\n",
       " 586,\n",
       " 595,\n",
       " 604,\n",
       " 613,\n",
       " 622,\n",
       " 631,\n",
       " 640,\n",
       " 649,\n",
       " 658,\n",
       " 667,\n",
       " 676,\n",
       " 685,\n",
       " 694,\n",
       " 703,\n",
       " 712,\n",
       " 721,\n",
       " 730,\n",
       " 739,\n",
       " 748,\n",
       " 757,\n",
       " 766,\n",
       " 775,\n",
       " 784,\n",
       " 793,\n",
       " 802,\n",
       " 811,\n",
       " 820,\n",
       " 829,\n",
       " 838,\n",
       " 847,\n",
       " 856,\n",
       " 865,\n",
       " 874,\n",
       " 883,\n",
       " 892,\n",
       " 901,\n",
       " 910,\n",
       " 919,\n",
       " 928,\n",
       " 937,\n",
       " 946,\n",
       " 955,\n",
       " 964,\n",
       " 973,\n",
       " 982,\n",
       " 991]"
      ]
     },
     "execution_count": 13,
     "metadata": {},
     "output_type": "execute_result"
    }
   ],
   "source": [
    "list(range(100,1000,9))"
   ]
  },
  {
   "cell_type": "markdown",
   "metadata": {},
   "source": [
    "### Task 4: Floats\n",
    "You can also float numbers as in create a decimal. Return to the text editor window. <p>\n",
    "\n",
    "Type and run the following:\n",
    "```python\n",
    "x = 3 \n",
    "print(x) \n",
    "y = float(x) \n",
    "print(y)\n",
    "```"
   ]
  },
  {
   "cell_type": "code",
   "execution_count": 14,
   "metadata": {},
   "outputs": [
    {
     "name": "stdout",
     "output_type": "stream",
     "text": [
      "3\n",
      "3.0\n"
     ]
    }
   ],
   "source": [
    "x = 3 \n",
    "print(x) \n",
    "y = float(x) \n",
    "print(y)"
   ]
  },
  {
   "cell_type": "markdown",
   "metadata": {},
   "source": [
    "Explain what the code above does - ***Line by line*** <p>\n",
    "\n",
    "3 is inside the variable X.\n",
    "The variable X is printed.\n",
    "The variable Y has float 3 inside it. \n",
    "The variable Y is printed. "
   ]
  },
  {
   "cell_type": "markdown",
   "metadata": {},
   "source": [
    "Type and run the following:\n",
    "```python\n",
    "y = float(3) \n",
    "print(y)\n",
    "```"
   ]
  },
  {
   "cell_type": "code",
   "execution_count": 15,
   "metadata": {},
   "outputs": [
    {
     "name": "stdout",
     "output_type": "stream",
     "text": [
      "3.0\n"
     ]
    }
   ],
   "source": [
    "y = float(3) \n",
    "print(y)"
   ]
  },
  {
   "cell_type": "markdown",
   "metadata": {},
   "source": [
    "Explain what the code above does - ***Line by line*** <p>\n",
    "\n",
    "The varible Y contain float 3.\n",
    "In this line, the variable Y is printed. \n"
   ]
  },
  {
   "cell_type": "markdown",
   "metadata": {},
   "source": [
    "*A SIMPLE PROGRAM TO WORK OUT HOW MANY CALORIES YOU CAN EAT IN A DAY*\n",
    "\n",
    "```python\n",
    "print (\"Welcome\") \n",
    "c=input(\"How many calories have you eaten today?\") \n",
    "s=2000-c \n",
    "print (\"You can still eat\", s, \"calories today\")\n",
    "```\n",
    "Now see if you can complete these: \n",
    "\n",
    "### Task 5 Plenary \n",
    "Jennifer wants to carpet her new room with pink carpet. Create a program that will work out the area of any sized room, (l x w):"
   ]
  },
  {
   "cell_type": "code",
   "execution_count": 20,
   "metadata": {},
   "outputs": [
    {
     "name": "stdout",
     "output_type": "stream",
     "text": [
      "Welcome\n",
      "How long is your room?5\n",
      "How wide is your room?4\n",
      "The area of your room is 20\n"
     ]
    }
   ],
   "source": [
    "print(\"Welcome\")\n",
    "l=int(input(\"How long is your room?\"))\n",
    "w=int (input(\"How wide is your room?\"))\n",
    "a=l* w\n",
    "print(\"The area of your room is\", a)"
   ]
  },
  {
   "cell_type": "markdown",
   "metadata": {},
   "source": [
    "### Extension 1\n",
    "Create a program that will work out the area of any triangle, (h x w x 0.5):"
   ]
  },
  {
   "cell_type": "code",
   "execution_count": 22,
   "metadata": {},
   "outputs": [
    {
     "name": "stdout",
     "output_type": "stream",
     "text": [
      "Welcome\n",
      "What is the height of the triangle5\n",
      "What is the width of the triangle6\n",
      "The area of the triangle is 15.0\n"
     ]
    }
   ],
   "source": [
    "print(\"Welcome\")\n",
    "h=int(input(\"What is the height of the triangle\"))\n",
    "w= int(input(\"What is the width of the triangle\"))\n",
    "a= h * w * 0.5\n",
    "print(\"The area of the triangle is\", a)"
   ]
  },
  {
   "cell_type": "markdown",
   "metadata": {},
   "source": [
    "### Extension 2\n",
    "Write a program to work out how many days you have been alive for? <p>(It will not be exact and only work to the number of years that you have been alive)"
   ]
  },
  {
   "cell_type": "code",
   "execution_count": 23,
   "metadata": {},
   "outputs": [
    {
     "name": "stdout",
     "output_type": "stream",
     "text": [
      "Welcome my son\n",
      "How old are you?56\n",
      "You have been alive for 20440 days\n"
     ]
    }
   ],
   "source": [
    "print(\"Welcome my son\")\n",
    "a= int(input(\"How old are you?\"))\n",
    "d= a*365\n",
    "print(\"You have been alive for\", d, \"days\")"
   ]
  },
  {
   "cell_type": "code",
   "execution_count": null,
   "metadata": {},
   "outputs": [],
   "source": []
  }
 ],
 "metadata": {
  "kernelspec": {
   "display_name": "Python 3",
   "language": "python",
   "name": "python3"
  },
  "language_info": {
   "codemirror_mode": {
    "name": "ipython",
    "version": 3
   },
   "file_extension": ".py",
   "mimetype": "text/x-python",
   "name": "python",
   "nbconvert_exporter": "python",
   "pygments_lexer": "ipython3",
   "version": "3.5.2"
  }
 },
 "nbformat": 4,
 "nbformat_minor": 2
}
