{
 "cells": [
  {
   "cell_type": "markdown",
   "metadata": {},
   "source": [
    "## IF & ELSE\n",
    "If and Else are powerful features where you can create different outcomes IF certain criteria or numbers are met. Else the programme will do something ELSE. <p>\n",
    "**START A NEW PROGRAM AND TYPE IN THIS CODE: **\n",
    "```python\n",
    "if 10==10: \n",
    "print (\"10 is equal to 10!\") \n",
    "```"
   ]
  },
  {
   "cell_type": "code",
   "execution_count": 6,
   "metadata": {},
   "outputs": [],
   "source": [
    "if 20==10: \n",
    "    print (\"10 is equal to 10!\")"
   ]
  },
  {
   "cell_type": "markdown",
   "metadata": {},
   "source": [
    "*Notice the : at the end of the first line, this tells the computer to do whatever is on the next line, the second line is also indented to show that it is related to the first line.*"
   ]
  },
  {
   "cell_type": "markdown",
   "metadata": {},
   "source": [
    "### Task 1: Conditional statements\n",
    "Now change one of the 10s to a different number, what happens?\n",
    "<p>\n",
    "Nothing happens\n",
    "<p>\n",
    "Why does this happen?\n",
    "<p>\n",
    "Because there wasn't an Else statement to state what should happen if the if statement was false. "
   ]
  },
  {
   "cell_type": "markdown",
   "metadata": {},
   "source": [
    "Now we want the program to feedback a different answer depending on the size of a number. \n",
    "\n",
    "### Task 2: Your first IF, ELSE program\n",
    "See if you can create the program to ask the users to *Input* a number and then *IF* the number is bigger than 500 *print* big number *ELSE print* small number:"
   ]
  },
  {
   "cell_type": "code",
   "execution_count": 8,
   "metadata": {},
   "outputs": [
    {
     "name": "stdout",
     "output_type": "stream",
     "text": [
      "Welcome\n",
      "Please input a number500\n",
      "small number\n"
     ]
    }
   ],
   "source": [
    "print(\"Welcome\")\n",
    "n= int(input(\"Please input a number\"))\n",
    "if n>500:\n",
    "    print(\"Big number\")\n",
    "else:\n",
    "    print(\"small number\")"
   ]
  },
  {
   "cell_type": "markdown",
   "metadata": {},
   "source": [
    "**Recap:** Explain in your own words what a variable is?\n",
    "<p>\n",
    "Variables are reserved memory locations to store values."
   ]
  },
  {
   "cell_type": "markdown",
   "metadata": {},
   "source": [
    "## The ELIF (ELSE IF)\n",
    "What about if you wanted to handle more than 2 responses? You know how to give a response IF it is or it isn’t.. What IF it is something else? For example, less than 250, less than 500, more than 500? You can use the ELIF function.\n",
    "\n",
    "### Task 3: Modify with ELIF\n",
    "Modify your earlier code to:\n",
    "- Ask for a number\n",
    "- Check if it is more than 500, if it is output big number.\n",
    "- Check if it is more than 250, if it is output medium number\n",
    "- Else output small number. \n",
    "\n",
    "Code your solution below:"
   ]
  },
  {
   "cell_type": "code",
   "execution_count": 10,
   "metadata": {},
   "outputs": [
    {
     "name": "stdout",
     "output_type": "stream",
     "text": [
      "Welcome\n",
      "Please input a number250\n",
      "small number\n"
     ]
    }
   ],
   "source": [
    "print(\"Welcome\")\n",
    "n= int(input(\"Please input a number\"))\n",
    "if n>500:\n",
    "    print(\"Big number\")\n",
    "elif n>250:\n",
    "    print(\"Medium number\")\n",
    "else:\n",
    "    print(\"small number\")"
   ]
  },
  {
   "cell_type": "markdown",
   "metadata": {},
   "source": [
    "### Task 4: Calorie Counter Part 2 \n",
    "Using the calorie counter program you used earlier, can you now create the program so that it asks if you are male or female and then calculates the calories based on your gender – calculating it should tell you how many calories you have left today. \n",
    "<p>\n",
    "(HINTS: Place all the variables at the top of the page, watch the indents. Males can eat 2800, females can eat 2000.)\n",
    "<p>\n",
    "Write your solution below:"
   ]
  },
  {
   "cell_type": "code",
   "execution_count": 15,
   "metadata": {},
   "outputs": [
    {
     "name": "stdout",
     "output_type": "stream",
     "text": [
      "Welcome\n",
      "How many calories have you eaten today600\n",
      "Are you Male or FemaleFemale\n",
      "You can still eat 1400 calories today\n"
     ]
    }
   ],
   "source": [
    "print (\"Welcome\") \n",
    "c=int(input(\"How many calories have you eaten today\"))\n",
    "g=input(\"Are you Male or Female\")\n",
    "if g==\"Male\":\n",
    "    l=2800-c\n",
    "else:\n",
    "    l=2000-c\n",
    "print (\"You can still eat\", l, \"calories today\")"
   ]
  },
  {
   "cell_type": "code",
   "execution_count": null,
   "metadata": {},
   "outputs": [],
   "source": []
  }
 ],
 "metadata": {
  "kernelspec": {
   "display_name": "Python 3",
   "language": "python",
   "name": "python3"
  },
  "language_info": {
   "codemirror_mode": {
    "name": "ipython",
    "version": 3
   },
   "file_extension": ".py",
   "mimetype": "text/x-python",
   "name": "python",
   "nbconvert_exporter": "python",
   "pygments_lexer": "ipython3",
   "version": "3.5.2"
  }
 },
 "nbformat": 4,
 "nbformat_minor": 2
}
