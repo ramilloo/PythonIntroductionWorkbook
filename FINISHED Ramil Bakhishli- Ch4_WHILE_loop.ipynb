{
 "cells": [
  {
   "cell_type": "markdown",
   "metadata": {},
   "source": [
    "## While Loops\n",
    "Like the For loop the While Loop will do something while a condition is being met, **While** I am feeling hungry, eat food. Once the while condition has been met the program stops the loop, once you are not hungry, stop eating.\n",
    "\n",
    "**TRY THIS:**\n",
    "```python\n",
    "x=1 \n",
    "while x==1: \n",
    "print (\"ERROR!!!\")\n",
    "```"
   ]
  },
  {
   "cell_type": "code",
   "execution_count": null,
   "metadata": {},
   "outputs": [],
   "source": [
    "x=1 \n",
    "while x==1: \n",
    "    print (\"ERROR!!!\")"
   ]
  },
  {
   "cell_type": "markdown",
   "metadata": {},
   "source": [
    "### Task 1: What is the code doing?\n",
    "Explain what the code above is doing:\n",
    "<p>\n",
    "The While condition has been met becasue X is 1 meaning the program will have an infinity loop because the value of x never changes. "
   ]
  },
  {
   "cell_type": "markdown",
   "metadata": {},
   "source": [
    "You can create a countdown by taking away 1 from the variable number each time, ie x = 5, x-1, so now x =4, x-1, so now x=3 and so on. The code is x =x-1. \n",
    "\n",
    "### Task 2: Countdown Program\n",
    "\n",
    "Change the x variable value to 10, the while should be changed so that the while the x value is greater than 1. Finally add x = x-1 to the last line of the program. Print out the numbers that this program outputs. \n",
    "\n",
    "Code your solution below:"
   ]
  },
  {
   "cell_type": "code",
   "execution_count": 2,
   "metadata": {},
   "outputs": [
    {
     "name": "stdout",
     "output_type": "stream",
     "text": [
      "10\n",
      "9\n",
      "8\n",
      "7\n",
      "6\n",
      "5\n",
      "4\n",
      "3\n",
      "2\n",
      "1\n"
     ]
    }
   ],
   "source": [
    "x=10\n",
    "while x>=1:\n",
    "    print(x)\n",
    "    x=x-1\n",
    "    \n",
    "    "
   ]
  },
  {
   "cell_type": "markdown",
   "metadata": {},
   "source": [
    "### Functions - Pausing\n",
    "\n",
    "The program runs very fast and all the instructions are completed very quickly. To slow down the instructions or pause between them we can use the sleep function. The sleep function is stored in the time module, so we first have to import the time module. \n",
    "\n",
    "### Task 3\n",
    "\n",
    "Try this using your countdown program. Add the codes import time to the first line of your program (This imports the time features)Add the code, time.sleep(2) after the print x feature. \n"
   ]
  },
  {
   "cell_type": "code",
   "execution_count": 3,
   "metadata": {},
   "outputs": [
    {
     "name": "stdout",
     "output_type": "stream",
     "text": [
      "10\n",
      "9\n",
      "8\n",
      "7\n",
      "6\n",
      "5\n",
      "4\n",
      "3\n",
      "2\n",
      "1\n"
     ]
    }
   ],
   "source": [
    "import time\n",
    "x=10\n",
    "while x>=1:\n",
    "    print(x)\n",
    "    time.sleep(2)\n",
    "    x=x-1"
   ]
  },
  {
   "cell_type": "code",
   "execution_count": null,
   "metadata": {},
   "outputs": [],
   "source": []
  }
 ],
 "metadata": {
  "kernelspec": {
   "display_name": "Python 3",
   "language": "python",
   "name": "python3"
  },
  "language_info": {
   "codemirror_mode": {
    "name": "ipython",
    "version": 3
   },
   "file_extension": ".py",
   "mimetype": "text/x-python",
   "name": "python",
   "nbconvert_exporter": "python",
   "pygments_lexer": "ipython3",
   "version": "3.5.2"
  }
 },
 "nbformat": 4,
 "nbformat_minor": 2
}
