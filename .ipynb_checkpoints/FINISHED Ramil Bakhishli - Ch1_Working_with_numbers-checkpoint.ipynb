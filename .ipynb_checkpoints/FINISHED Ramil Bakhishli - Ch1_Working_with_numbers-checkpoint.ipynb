{
 "cells": [
  {
   "cell_type": "markdown",
   "metadata": {},
   "source": [
    "# Working with numbers\n",
    "Python is also a powerful calculator and you can manipulate or test numbers in a variety of ways.\n",
    "\n",
    "Type in 1+1 and run it… "
   ]
  },
  {
   "cell_type": "code",
   "execution_count": null,
   "metadata": {},
   "outputs": [],
   "source": []
  },
  {
   "cell_type": "markdown",
   "metadata": {},
   "source": [
    "### Task1: Explain what happens below?\n",
    "\n",
    "enter your answer here"
   ]
  },
  {
   "cell_type": "markdown",
   "metadata": {},
   "source": [
    "### Task 2: Complete the table\n",
    "Using the code cell below investigate the following and fill in the rest of the table:<p>\n",
    "\n",
    "|Equation|Answer|What does it do?|\n",
    "|:---|:---|:---|\n",
    "|2+5   | 7  | The + command is addition  |\n",
    "|67/34   |   |   |\n",
    "|30*4   |   |   |\n",
    "|3==6   |   |   |\n",
    "|3!=5   |   |   |\n",
    "|39==39   |   |   |\n",
    "|list(range(100))   |   |   |\n",
    "|list(range(46,100))   |   |   |\n",
    "|list(range(0,30,5))   |   |   |"
   ]
  },
  {
   "cell_type": "code",
   "execution_count": null,
   "metadata": {},
   "outputs": [],
   "source": [
    "2+5"
   ]
  },
  {
   "cell_type": "markdown",
   "metadata": {},
   "source": [
    "### Task 3: Number list program\n",
    "Can you create a program that lists all the numbers starting from 100 to 10000, going up in intervals of 9? "
   ]
  },
  {
   "cell_type": "code",
   "execution_count": null,
   "metadata": {
    "collapsed": true
   },
   "outputs": [],
   "source": []
  },
  {
   "cell_type": "markdown",
   "metadata": {},
   "source": [
    "### Task 4: Floats\n",
    "You can also float numbers as in create a decimal. Return to the text editor window. <p>\n",
    "\n",
    "Type and run the following:\n",
    "```python\n",
    "x = 3 \n",
    "print(x) \n",
    "y = float(x) \n",
    "print(y)\n",
    "```"
   ]
  },
  {
   "cell_type": "code",
   "execution_count": null,
   "metadata": {
    "collapsed": true
   },
   "outputs": [],
   "source": []
  },
  {
   "cell_type": "markdown",
   "metadata": {},
   "source": [
    "Explain what the code above does - ***Line by line*** <p>\n",
    "\n",
    "*enter your answer here*"
   ]
  },
  {
   "cell_type": "markdown",
   "metadata": {},
   "source": [
    "Type and run the following:\n",
    "```python\n",
    "y = float(3) \n",
    "print(y)\n",
    "```"
   ]
  },
  {
   "cell_type": "code",
   "execution_count": null,
   "metadata": {
    "collapsed": true
   },
   "outputs": [],
   "source": []
  },
  {
   "cell_type": "markdown",
   "metadata": {},
   "source": [
    "Explain what the code above does - ***Line by line*** <p>\n",
    "\n",
    "*enter your answer here*"
   ]
  },
  {
   "cell_type": "markdown",
   "metadata": {},
   "source": [
    "*A SIMPLE PROGRAM TO WORK OUT HOW MANY CALORIES YOU CAN EAT IN A DAY*\n",
    "\n",
    "```python\n",
    "print (\"Welcome\") \n",
    "c=input(\"How many calories have you eaten today?\") \n",
    "s=2000-c \n",
    "print (\"You can still eat\", s, \"calories today\")\n",
    "```\n",
    "Now see if you can complete these: \n",
    "\n",
    "### Task 5 Plenary \n",
    "Jennifer wants to carpet her new room with pink carpet. Create a program that will work out the area of any sized room, (l x w):"
   ]
  },
  {
   "cell_type": "code",
   "execution_count": null,
   "metadata": {
    "collapsed": true
   },
   "outputs": [],
   "source": []
  },
  {
   "cell_type": "markdown",
   "metadata": {},
   "source": [
    "### Extension 1\n",
    "Create a program that will work out the area of any triangle, (h x w x 0.5):"
   ]
  },
  {
   "cell_type": "code",
   "execution_count": null,
   "metadata": {
    "collapsed": true
   },
   "outputs": [],
   "source": []
  },
  {
   "cell_type": "markdown",
   "metadata": {},
   "source": [
    "### Extension 2\n",
    "Write a program to work out how many days you have been alive for? <p>(It will not be exact and only work to the number of years that you have been alive)"
   ]
  },
  {
   "cell_type": "code",
   "execution_count": null,
   "metadata": {
    "collapsed": true
   },
   "outputs": [],
   "source": []
  }
 ],
 "metadata": {
  "kernelspec": {
   "display_name": "Python 3",
   "language": "python",
   "name": "python3"
  },
  "language_info": {
   "codemirror_mode": {
    "name": "ipython",
    "version": 3
   },
   "file_extension": ".py",
   "mimetype": "text/x-python",
   "name": "python",
   "nbconvert_exporter": "python",
   "pygments_lexer": "ipython3",
   "version": "3.5.2"
  }
 },
 "nbformat": 4,
 "nbformat_minor": 2
}
